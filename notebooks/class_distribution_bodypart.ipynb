{
 "cells": [
  {
   "cell_type": "code",
   "execution_count": 34,
   "id": "needed-greensboro",
   "metadata": {},
   "outputs": [],
   "source": [
    "import os\n",
    "import cv2\n",
    "import math\n",
    "import json\n",
    "import glob\n",
    "import random\n",
    "import numpy as np\n",
    "import pandas as pd\n",
    "from PIL import Image\n",
    "from collections import namedtuple\n",
    "from matplotlib import pyplot as plt\n",
    "import itertools\n",
    " "
   ]
  },
  {
   "cell_type": "markdown",
   "id": "hybrid-equality",
   "metadata": {},
   "source": [
    "# Parsing all forensic labels\n",
    "\n",
    "- Read the file from MongoDB that includes all tags\n",
    "- Used bash to get the ones with polygonoal selection: cat /home/mousavi/exportsFromMongo/tags/tags.csv.20210523 | grep poly > tags.csv.20210523.poly\n",
    "- Cleaned the tags by having each tag in one line (before they were multiple per line, separated by ;), and lower case\n"
   ]
  },
  {
   "cell_type": "code",
   "execution_count": 60,
   "id": "independent-chapter",
   "metadata": {},
   "outputs": [],
   "source": [
    "filename = \"/data/sara/DecompositionFeatureSegmentation/data/tags.csv.20210523.poly\"\n",
    "df = pd.read_csv(filename ,  delimiter = ',', names = ['_id', 'user', 'location', 'image', 'tag', 'created', '__v'])"
   ]
  },
  {
   "cell_type": "code",
   "execution_count": 62,
   "id": "enhanced-evaluation",
   "metadata": {},
   "outputs": [],
   "source": [
    "clean_df = pd.DataFrame()\n",
    "for index, row in df.iterrows():\n",
    "    tags = row['tag'].split(';')\n",
    "    for tag in tags:\n",
    "        row['tag'] = tag.lower().strip()\n",
    "        clean_df = clean_df.append(row)\n"
   ]
  },
  {
   "cell_type": "code",
   "execution_count": 63,
   "id": "affected-spectacular",
   "metadata": {},
   "outputs": [
    {
     "data": {
      "text/plain": [
       "131"
      ]
     },
     "execution_count": 63,
     "metadata": {},
     "output_type": "execute_result"
    }
   ],
   "source": [
    "len(clean_df['tag'].unique())"
   ]
  },
  {
   "cell_type": "markdown",
   "id": "numerous-bryan",
   "metadata": {},
   "source": [
    "### Get one hot encoding for each image\n",
    "- For each image, check all labels that it has\n",
    "- Create a new dataframe to keep this information"
   ]
  },
  {
   "cell_type": "code",
   "execution_count": 70,
   "id": "lyric-tunnel",
   "metadata": {
    "scrolled": false
   },
   "outputs": [],
   "source": [
    "classes = {val:[] for val in clean_df['tag'].unique()}\n",
    "df_decom_classes = pd.DataFrame()\n",
    "image_ids = []\n",
    "image_paths = []\n",
    "\n",
    "for index, row in df.iterrows():\n",
    "    img_name = row['image'].split('/')[-1]\n",
    "    img_path = \"/usb/sara_img/\" + img_name\n",
    "    img_id = img_name.split('.')[0]\n",
    "    \n",
    "    if img_id not in image_ids:\n",
    "        image_ids.append(img_id)\n",
    "        image_paths.append(img_path)\n",
    "        tmp_classes = df[df['image'] == row['image']]['tag'].unique()\n",
    "\n",
    "        for k, v in classes.items():\n",
    "            if k in tmp_classes:\n",
    "                classes[k].append(1)\n",
    "            else:\n",
    "                classes[k].append(0)\n",
    "            \n",
    "df_decom_classes['id'] = image_ids\n",
    "df_decom_classes['image_path'] = image_paths\n",
    "\n",
    "for k, v in classes.items():\n",
    "    df_decom_classes[k] = classes[k]\n",
    "    "
   ]
  },
  {
   "cell_type": "code",
   "execution_count": 71,
   "id": "greater-tractor",
   "metadata": {},
   "outputs": [],
   "source": [
    "df_decom_classes.to_csv(\"../data/bodyparts_csv/all_decom_labels.csv\")"
   ]
  },
  {
   "cell_type": "markdown",
   "id": "cross-investment",
   "metadata": {},
   "source": [
    "# Getting the decom data for bodyparts"
   ]
  },
  {
   "cell_type": "code",
   "execution_count": 91,
   "id": "empty-supervisor",
   "metadata": {},
   "outputs": [],
   "source": [
    "train_imgs = \"/data/sara/semantic-segmentation-pytorch/data/train.odgt\"\n",
    "val_imgs = \"/data/sara/semantic-segmentation-pytorch/data/val.odgt\"\n",
    "test_imgs = \"/data/sara/semantic-segmentation-pytorch/data/test.odgt\""
   ]
  },
  {
   "cell_type": "code",
   "execution_count": 35,
   "id": "absent-savings",
   "metadata": {},
   "outputs": [],
   "source": [
    "BODY_CLASSES = [\n",
    "    \"background\",\n",
    "    \"foot\",\n",
    "    \"hand\",\n",
    "    \"arm\",\n",
    "    \"leg\",\n",
    "    \"torso\",\n",
    "    \"head\"\n",
    "]\n",
    "\n",
    "ANN_ROOT_DIR = \"/data/sara/semantic-segmentation-pytorch/\"\n",
    "\n",
    "random.seed(0)\n",
    "NUM_CLASSES = 7\n",
    "BODY_COLORMAP = [(random.randint(0, 255), random.randint(\n",
    "    0, 255), random.randint(0, 255)) for _ in range(NUM_CLASSES)]"
   ]
  },
  {
   "cell_type": "code",
   "execution_count": 106,
   "id": "blocked-fiction",
   "metadata": {},
   "outputs": [],
   "source": [
    "def get_classes_names(path, class_names):\n",
    "    gray = cv2.imread(path, 0)\n",
    "    # gray = cv2.cvtColor(image, cv2.COLOR_BGR2GRAY)\n",
    "    ret_list = []\n",
    "    for i in np.unique(gray): ret_list.append(class_names[i])\n",
    "    return ret_list"
   ]
  },
  {
   "cell_type": "code",
   "execution_count": 107,
   "id": "comparable-fault",
   "metadata": {},
   "outputs": [],
   "source": [
    "filenames = [train_imgs, val_imgs, test_imgs]\n",
    "modes = ['train', 'val', 'test']\n",
    "for idx, filename in enumerate(filenames):\n",
    "    with open(filename, 'r') as f:\n",
    "        data = f.readlines()\n",
    "\n",
    "    dict_data = [json.loads(val) for val in data]\n",
    "    df = pd.DataFrame(dict_data)\n",
    "\n",
    "\n",
    "    # dict of classes. 1:contain class, 0:NO class\n",
    "    classes = {val:[] for val in BODY_CLASSES}\n",
    "    image_ids = []\n",
    "\n",
    "    for index, row in df.iterrows():\n",
    "        label_path = ANN_ROOT_DIR + row['fpath_segm']\n",
    "        img_id = label_path.split('/')[-1].split('.')[0]\n",
    "\n",
    "        image_ids.append(img_id)\n",
    "        tmp_classes = get_classes_names(label_path, BODY_CLASSES)\n",
    "\n",
    "        for k, v in classes.items():\n",
    "            if k in tmp_classes:\n",
    "                classes[k].append(1)\n",
    "            else:\n",
    "                classes[k].append(0)\n",
    "\n",
    "    df['id'] = image_ids\n",
    "\n",
    "    for k, v in classes.items():\n",
    "        df[k] = classes[k]\n",
    "    df.to_csv(\"../data/bodyparts_csv/\" + modes[idx] + \".csv\")"
   ]
  },
  {
   "cell_type": "markdown",
   "id": "legendary-sacrifice",
   "metadata": {},
   "source": [
    "# Analysis"
   ]
  },
  {
   "cell_type": "code",
   "execution_count": 118,
   "id": "numerous-battle",
   "metadata": {},
   "outputs": [],
   "source": [
    "def transparent_overlays(image, annotation, alpha=0.5):\n",
    "    img1 = image.copy()\n",
    "    img2 = annotation.copy()\n",
    "\n",
    "    # I want to put logo on top-left corner, So I create a ROI\n",
    "    rows,cols,channels = img2.shape\n",
    "    roi = img1[0:rows, 0:cols ]\n",
    "\n",
    "    # Now create a mask of logo and create its inverse mask also\n",
    "    img2gray = cv2.cvtColor(img2,cv2.COLOR_BGR2GRAY)\n",
    "    ret, mask = cv2.threshold(img2gray, 10, 255, cv2.THRESH_BINARY)\n",
    "    mask_inv = cv2.bitwise_not(mask)\n",
    "\n",
    "    # Now black-out the area of logo in ROI\n",
    "    # img1_bg = cv2.bitwise_and(roi,roi,mask = mask_inv)\n",
    "\n",
    "    # Take only region of logo from logo image.\n",
    "    img2_fg = cv2.bitwise_and(img2,img2,mask = mask)\n",
    "\n",
    "    # Put logo in ROI and modify the main image\n",
    "    # dst = cv2.add(img1_bg, img2_fg)\n",
    "    dst = cv2.addWeighted(image.copy(), 1-alpha, img2_fg, alpha, 0)\n",
    "    img1[0:rows, 0:cols ] = dst\n",
    "    return dst\n",
    "\n",
    "def color_im(img, colors):\n",
    "    for i in range(len(colors)):\n",
    "        img[:,:,0][np.where(img[:,:,0] == i)] = colors[i][0]\n",
    "        img[:,:,1][np.where(img[:,:,1] == i)] = colors[i][1]\n",
    "        img[:,:,2][np.where(img[:,:,2] == i)] = colors[i][2]\n",
    "    return img\n",
    "\n",
    "def vis_pair(img1, img2, label1, label2):\n",
    "    img1 = cv2.imread(img1)\n",
    "    img2 = cv2.imread(img2)\n",
    "    label1 = cv2.imread(label1)\n",
    "\n",
    "    label2 = cv2.imread(label2)\n",
    "    \n",
    "    tmp_label2 = cv2.resize(label2, (int(label1.shape[1]), int(label1.shape[0])))\n",
    "    \n",
    "    label1[np.where(label1 == 0)] = 255 # to exclude the bg from intersection\n",
    "    \n",
    "    intersection = np.where(label1[:,:,0] == tmp_label2[:,:,0])[0].shape[0]\n",
    "    union = np.where(label1[:,:,0] != 255 )[0].shape[0] + np.where(tmp_label2[:,:,0] != 0 )[0].shape[0] - intersection\n",
    "    '''\n",
    "    plt.figure(figsize=(10, 7))\n",
    "    plt.imshow(img1)\n",
    "    plt.show()\n",
    "    \n",
    "    plt.figure(figsize=(10, 7))\n",
    "    plt.imshow(img2)\n",
    "    plt.show()\n",
    "    \n",
    "    \n",
    "    plt.figure(figsize=(10, 7))\n",
    "    plt.imshow(transparent_overlays(color_im(label1, colors), color_im(tmp_label2, colors), 0.45))\n",
    "    plt.show()\n",
    "    '''\n",
    "\n",
    "    return intersection/union\n",
    "\n"
   ]
  },
  {
   "cell_type": "code",
   "execution_count": null,
   "id": "alternate-walker",
   "metadata": {
    "scrolled": false
   },
   "outputs": [],
   "source": [
    "df = pd.read_csv(\"../data/bodyparts_csv/train.csv\")\n",
    "colors = BODY_COLORMAP\n",
    "\n",
    "output = \"\"\n",
    "\n",
    "for i, c in enumerate(BODY_CLASSES):\n",
    "    if c != 'background':\n",
    "        #print(c)\n",
    "        sub_data = df[df[c]==1]\n",
    "        #print(f\"numbers of image: {len(sub_data)} \\n\\n\")\n",
    "        count = 0\n",
    "        for pair in itertools.combinations(sub_data['fpath_img'],2):\n",
    "            row1 = df[df['fpath_img']==pair[0]]\n",
    "            row2 = df[df['fpath_img']==pair[1]]\n",
    "            imgs = [row1['fpath_img'].values[0],row2['fpath_img'].values[0]]\n",
    "            segms = [ANN_ROOT_DIR + row1['fpath_segm'].values[0], ANN_ROOT_DIR + row2['fpath_segm'].values[0]]\n",
    "\n",
    "            w, h =  row1['width'].values[0], row1['height'].values[0]\n",
    "\n",
    "            iou = vis_pair(imgs[0], imgs[1], segms[0], segms[1])\n",
    "            #if iou > 0.5 :\n",
    "            new_line = {}\n",
    "            new_line[\"fpath_img\"], new_line[\"fpath_segm\"], new_line[\"width\"], new_line[\"height\"], new_line['iou'] = \\\n",
    "                    imgs, segms, int(w), int(h), iou\n",
    "            #print(new_line)\n",
    "            output += json.dumps(new_line) + \"\\n\"\n",
    "        \n",
    "\n",
    "with open('../data/bodyparts_csv/train_iou.odgt', 'w') as fp:\n",
    "    fp.write(output)\n",
    "    "
   ]
  },
  {
   "cell_type": "code",
   "execution_count": 2,
   "id": "suited-india",
   "metadata": {},
   "outputs": [
    {
     "data": {
      "text/plain": [
       "<matplotlib.axes._subplots.AxesSubplot at 0x7f1792e66610>"
      ]
     },
     "execution_count": 2,
     "metadata": {},
     "output_type": "execute_result"
    },
    {
     "data": {
      "image/png": "[encoded data removed]",
      "text/plain": [
       "<Figure size 432x288 with 1 Axes>"
      ]
     },
     "metadata": {
      "needs_background": "light"
     },
     "output_type": "display_data"
    }
   ],
   "source": [
    "df_pairs = pd.read_json('../data/bodyparts_csv/train_iou.odgt', lines=True)\n",
    "df_pairs['iou'].hist()\n",
    "df_pairs[df_pairs['iou'] > 0.5]['iou'].hist()"
   ]
  },
  {
   "cell_type": "code",
   "execution_count": 5,
   "id": "instrumental-latvia",
   "metadata": {},
   "outputs": [
    {
     "data": {
      "text/plain": [
       "<matplotlib.axes._subplots.AxesSubplot at 0x7f16f1d658d0>"
      ]
     },
     "execution_count": 5,
     "metadata": {},
     "output_type": "execute_result"
    },
    {
     "data": {
      "image/png": "[encoded data removed]",
      "text/plain": [
       "<Figure size 432x288 with 1 Axes>"
      ]
     },
     "metadata": {
      "needs_background": "light"
     },
     "output_type": "display_data"
    }
   ],
   "source": [
    "df_pairs[df_pairs['iou'] > 0.5]['iou'].hist()"
   ]
  },
  {
   "cell_type": "code",
   "execution_count": null,
   "id": "quantitative-herald",
   "metadata": {},
   "outputs": [],
   "source": [
    "output"
   ]
  },
  {
   "cell_type": "markdown",
   "id": "preliminary-exclusive",
   "metadata": {},
   "source": [
    "# Example"
   ]
  },
  {
   "cell_type": "code",
   "execution_count": 74,
   "id": "gentle-assumption",
   "metadata": {},
   "outputs": [
    {
     "data": {
      "image/png": "[encoded data removed]",
      "text/plain": [
       "<Figure size 936x936 with 1 Axes>"
      ]
     },
     "metadata": {
      "needs_background": "light"
     },
     "output_type": "display_data"
    }
   ],
   "source": [
    "def color_im(img, colors):\n",
    "    for i in range(len(colors)):\n",
    "        img[:,:,0][np.where(img[:,:,0] == i)] = colors[i][0]\n",
    "        img[:,:,1][np.where(img[:,:,1] == i)] = colors[i][1]\n",
    "        img[:,:,2][np.where(img[:,:,2] == i)] = colors[i][2]\n",
    "    return img\n",
    "\n",
    "img_path = \"/data/sara/semantic-segmentation-pytorch/all_body_part_annotations/29800522.14.png\"\n",
    "\n",
    "colored_seg = cv2.imread(img_path)\n",
    "plt.figure(figsize=(13, 13))\n",
    "plt.imshow(color_im(colored_seg,BODY_COLORMAP))\n",
    "plt.show()"
   ]
  },
  {
   "cell_type": "code",
   "execution_count": null,
   "id": "little-abraham",
   "metadata": {},
   "outputs": [],
   "source": []
  },
  {
   "cell_type": "code",
   "execution_count": null,
   "id": "prompt-briefing",
   "metadata": {},
   "outputs": [],
   "source": []
  },
  {
   "cell_type": "code",
   "execution_count": null,
   "id": "musical-constitutional",
   "metadata": {},
   "outputs": [],
   "source": []
  },
  {
   "cell_type": "markdown",
   "id": "behavioral-classic",
   "metadata": {},
   "source": [
    "# get images with exact same classes"
   ]
  },
  {
   "cell_type": "code",
   "execution_count": 167,
   "id": "elegant-mouth",
   "metadata": {},
   "outputs": [
    {
     "name": "stdout",
     "output_type": "stream",
     "text": [
      "    index  Unnamed: 0                                   fpath_img  \\\n",
      "0      39          39  /usb/seq_data_for_mit_code/c0f00924.57.JPG   \n",
      "1      90          90  /usb/seq_data_for_mit_code/e4701108.72.JPG   \n",
      "2     118         118  /usb/seq_data_for_mit_code/e4701109.70.JPG   \n",
      "3     130         130  /usb/seq_data_for_mit_code/24300510.01.JPG   \n",
      "4     138         138  /usb/seq_data_for_mit_code/e4701108.69.JPG   \n",
      "5     250         250  /usb/seq_data_for_mit_code/07b00123.01.JPG   \n",
      "6     322         322  /usb/seq_data_for_mit_code/4e510107.01.JPG   \n",
      "7     392         392  /usb/seq_data_for_mit_code/a8b00827.47.JPG   \n",
      "8     399         399  /usb/seq_data_for_mit_code/07b00122.02.JPG   \n",
      "9     407         407  /usb/seq_data_for_mit_code/07b00122.01.JPG   \n",
      "10    441         441  /usb/seq_data_for_mit_code/60810325.36.JPG   \n",
      "11    460         460  /usb/seq_data_for_mit_code/5fc10414.29.JPG   \n",
      "12    489         489  /usb/seq_data_for_mit_code/d7700706.26.JPG   \n",
      "13    603         603  /usb/seq_data_for_mit_code/0fd10413.30.JPG   \n",
      "14    640         640  /usb/seq_data_for_mit_code/15101212.23.JPG   \n",
      "15    735         735  /usb/seq_data_for_mit_code/2f900429.18.JPG   \n",
      "16    835         835  /usb/seq_data_for_mit_code/59800916.24.JPG   \n",
      "17    836         836  /usb/seq_data_for_mit_code/59801113.16.JPG   \n",
      "18    883         883  /usb/seq_data_for_mit_code/6a701121.21.JPG   \n",
      "19    890         890  /usb/seq_data_for_mit_code/6de00820.25.JPG   \n",
      "20    987         987  /usb/seq_data_for_mit_code/a4800127.23.JPG   \n",
      "21    991         991  /usb/seq_data_for_mit_code/a5b01002.12.JPG   \n",
      "22   1013        1013  /usb/seq_data_for_mit_code/a8b00823.42.JPG   \n",
      "23   1091        1091  /usb/seq_data_for_mit_code/e5510306.30.JPG   \n",
      "24   1108        1108  /usb/seq_data_for_mit_code/ee810417.37.JPG   \n",
      "\n",
      "                                   fpath_segm  width  height        id  \\\n",
      "0   all_body_part_annotations/c0f00924.57.png    600     400  c0f00924   \n",
      "1   all_body_part_annotations/e4701108.72.png    600     400  e4701108   \n",
      "2   all_body_part_annotations/e4701109.70.png    600     400  e4701109   \n",
      "3   all_body_part_annotations/24300510.01.png    600     400  24300510   \n",
      "4   all_body_part_annotations/e4701108.69.png    600     400  e4701108   \n",
      "5   all_body_part_annotations/07b00123.01.png    600     400  07b00123   \n",
      "6   all_body_part_annotations/4e510107.01.png    600     400  4e510107   \n",
      "7   all_body_part_annotations/a8b00827.47.png    600     400  a8b00827   \n",
      "8   all_body_part_annotations/07b00122.02.png    600     400  07b00122   \n",
      "9   all_body_part_annotations/07b00122.01.png    600     400  07b00122   \n",
      "10  all_body_part_annotations/60810325.36.png    600     400  60810325   \n",
      "11  all_body_part_annotations/5fc10414.29.png    600     400  5fc10414   \n",
      "12  all_body_part_annotations/d7700706.26.png    600     400  d7700706   \n",
      "13  all_body_part_annotations/0fd10413.30.png    600     400  0fd10413   \n",
      "14  all_body_part_annotations/15101212.23.png    600     400  15101212   \n",
      "15  all_body_part_annotations/2f900429.18.png    600     400  2f900429   \n",
      "16  all_body_part_annotations/59800916.24.png    600     400  59800916   \n",
      "17  all_body_part_annotations/59801113.16.png    600     400  59801113   \n",
      "18  all_body_part_annotations/6a701121.21.png    600     400  6a701121   \n",
      "19  all_body_part_annotations/6de00820.25.png    600     400  6de00820   \n",
      "20  all_body_part_annotations/a4800127.23.png    600     400  a4800127   \n",
      "21  all_body_part_annotations/a5b01002.12.png    600     400  a5b01002   \n",
      "22  all_body_part_annotations/a8b00823.42.png    600     400  a8b00823   \n",
      "23  all_body_part_annotations/e5510306.30.png    600     400  e5510306   \n",
      "24  all_body_part_annotations/ee810417.37.png    600     400  ee810417   \n",
      "\n",
      "    background  foot  hand  arm  leg  torso  head  \n",
      "0            1     0     0    0    0      0     1  \n",
      "1            1     0     0    0    0      0     1  \n",
      "2            1     0     0    0    0      0     1  \n",
      "3            1     0     0    0    0      0     1  \n",
      "4            1     0     0    0    0      0     1  \n",
      "5            1     0     0    0    0      0     1  \n",
      "6            1     0     0    0    0      0     1  \n",
      "7            1     0     0    0    0      0     1  \n",
      "8            1     0     0    0    0      0     1  \n",
      "9            1     0     0    0    0      0     1  \n",
      "10           1     0     0    0    0      0     1  \n",
      "11           1     0     0    0    0      0     1  \n",
      "12           1     0     0    0    0      0     1  \n",
      "13           1     0     0    0    0      0     1  \n",
      "14           1     0     0    0    0      0     1  \n",
      "15           1     0     0    0    0      0     1  \n",
      "16           1     0     0    0    0      0     1  \n",
      "17           1     0     0    0    0      0     1  \n",
      "18           1     0     0    0    0      0     1  \n",
      "19           1     0     0    0    0      0     1  \n",
      "20           1     0     0    0    0      0     1  \n",
      "21           1     0     0    0    0      0     1  \n",
      "22           1     0     0    0    0      0     1  \n",
      "23           1     0     0    0    0      0     1  \n",
      "24           1     0     0    0    0      0     1  \n"
     ]
    }
   ],
   "source": [
    "df = pd.read_csv(\"../data/bodyparts_csv/train.csv\")\n",
    "temp = df.groupby(by=BODY_CLASSES).size().reset_index(name='count')\n",
    "temp = temp[temp['count'] > 1]\n",
    "for idx, line in temp.iterrows():\n",
    "    #temp = temp.set_index(BODY_CLASSES)\n",
    "    temp2 = line.to_frame().transpose()\n",
    "    temp2 = temp2.set_index(BODY_CLASSES)\n",
    "\n",
    "    df2 = df[df.apply(lambda row: tuple(row[BODY_CLASSES].values) in temp2.index, axis=1)].reset_index()\n",
    "    print(df2)\n",
    "    break"
   ]
  },
  {
   "cell_type": "code",
   "execution_count": 163,
   "id": "powered-yellow",
   "metadata": {},
   "outputs": [],
   "source": [
    "df = pd.read_csv(\"../data/bodyparts_csv/train.csv\")"
   ]
  },
  {
   "cell_type": "code",
   "execution_count": 175,
   "id": "established-placement",
   "metadata": {},
   "outputs": [
    {
     "data": {
      "text/plain": [
       "[('/usb/seq_data_for_mit_code/c0f00924.57.JPG',\n",
       "  'all_body_part_annotations/c0f00924.57.png'),\n",
       " ('/usb/seq_data_for_mit_code/e4701108.72.JPG',\n",
       "  'all_body_part_annotations/e4701108.72.png'),\n",
       " ('/usb/seq_data_for_mit_code/e4701109.70.JPG',\n",
       "  'all_body_part_annotations/e4701109.70.png'),\n",
       " ('/usb/seq_data_for_mit_code/24300510.01.JPG',\n",
       "  'all_body_part_annotations/24300510.01.png'),\n",
       " ('/usb/seq_data_for_mit_code/e4701108.69.JPG',\n",
       "  'all_body_part_annotations/e4701108.69.png'),\n",
       " ('/usb/seq_data_for_mit_code/07b00123.01.JPG',\n",
       "  'all_body_part_annotations/07b00123.01.png'),\n",
       " ('/usb/seq_data_for_mit_code/4e510107.01.JPG',\n",
       "  'all_body_part_annotations/4e510107.01.png'),\n",
       " ('/usb/seq_data_for_mit_code/a8b00827.47.JPG',\n",
       "  'all_body_part_annotations/a8b00827.47.png'),\n",
       " ('/usb/seq_data_for_mit_code/07b00122.02.JPG',\n",
       "  'all_body_part_annotations/07b00122.02.png'),\n",
       " ('/usb/seq_data_for_mit_code/07b00122.01.JPG',\n",
       "  'all_body_part_annotations/07b00122.01.png'),\n",
       " ('/usb/seq_data_for_mit_code/60810325.36.JPG',\n",
       "  'all_body_part_annotations/60810325.36.png'),\n",
       " ('/usb/seq_data_for_mit_code/5fc10414.29.JPG',\n",
       "  'all_body_part_annotations/5fc10414.29.png'),\n",
       " ('/usb/seq_data_for_mit_code/d7700706.26.JPG',\n",
       "  'all_body_part_annotations/d7700706.26.png'),\n",
       " ('/usb/seq_data_for_mit_code/0fd10413.30.JPG',\n",
       "  'all_body_part_annotations/0fd10413.30.png'),\n",
       " ('/usb/seq_data_for_mit_code/15101212.23.JPG',\n",
       "  'all_body_part_annotations/15101212.23.png'),\n",
       " ('/usb/seq_data_for_mit_code/2f900429.18.JPG',\n",
       "  'all_body_part_annotations/2f900429.18.png'),\n",
       " ('/usb/seq_data_for_mit_code/59800916.24.JPG',\n",
       "  'all_body_part_annotations/59800916.24.png'),\n",
       " ('/usb/seq_data_for_mit_code/59801113.16.JPG',\n",
       "  'all_body_part_annotations/59801113.16.png'),\n",
       " ('/usb/seq_data_for_mit_code/6a701121.21.JPG',\n",
       "  'all_body_part_annotations/6a701121.21.png'),\n",
       " ('/usb/seq_data_for_mit_code/6de00820.25.JPG',\n",
       "  'all_body_part_annotations/6de00820.25.png'),\n",
       " ('/usb/seq_data_for_mit_code/a4800127.23.JPG',\n",
       "  'all_body_part_annotations/a4800127.23.png'),\n",
       " ('/usb/seq_data_for_mit_code/a5b01002.12.JPG',\n",
       "  'all_body_part_annotations/a5b01002.12.png'),\n",
       " ('/usb/seq_data_for_mit_code/a8b00823.42.JPG',\n",
       "  'all_body_part_annotations/a8b00823.42.png'),\n",
       " ('/usb/seq_data_for_mit_code/e5510306.30.JPG',\n",
       "  'all_body_part_annotations/e5510306.30.png'),\n",
       " ('/usb/seq_data_for_mit_code/ee810417.37.JPG',\n",
       "  'all_body_part_annotations/ee810417.37.png')]"
      ]
     },
     "execution_count": 175,
     "metadata": {},
     "output_type": "execute_result"
    }
   ],
   "source": [
    "[i for i in zip(df2['fpath_img'].values,df2['fpath_segm'].values)]"
   ]
  },
  {
   "cell_type": "code",
   "execution_count": 173,
   "id": "inclusive-harris",
   "metadata": {},
   "outputs": [
    {
     "data": {
      "text/plain": [
       "array(['all_body_part_annotations/c0f00924.57.png',\n",
       "       'all_body_part_annotations/e4701108.72.png',\n",
       "       'all_body_part_annotations/e4701109.70.png',\n",
       "       'all_body_part_annotations/24300510.01.png',\n",
       "       'all_body_part_annotations/e4701108.69.png',\n",
       "       'all_body_part_annotations/07b00123.01.png',\n",
       "       'all_body_part_annotations/4e510107.01.png',\n",
       "       'all_body_part_annotations/a8b00827.47.png',\n",
       "       'all_body_part_annotations/07b00122.02.png',\n",
       "       'all_body_part_annotations/07b00122.01.png',\n",
       "       'all_body_part_annotations/60810325.36.png',\n",
       "       'all_body_part_annotations/5fc10414.29.png',\n",
       "       'all_body_part_annotations/d7700706.26.png',\n",
       "       'all_body_part_annotations/0fd10413.30.png',\n",
       "       'all_body_part_annotations/15101212.23.png',\n",
       "       'all_body_part_annotations/2f900429.18.png',\n",
       "       'all_body_part_annotations/59800916.24.png',\n",
       "       'all_body_part_annotations/59801113.16.png',\n",
       "       'all_body_part_annotations/6a701121.21.png',\n",
       "       'all_body_part_annotations/6de00820.25.png',\n",
       "       'all_body_part_annotations/a4800127.23.png',\n",
       "       'all_body_part_annotations/a5b01002.12.png',\n",
       "       'all_body_part_annotations/a8b00823.42.png',\n",
       "       'all_body_part_annotations/e5510306.30.png',\n",
       "       'all_body_part_annotations/ee810417.37.png'], dtype=object)"
      ]
     },
     "execution_count": 173,
     "metadata": {},
     "output_type": "execute_result"
    }
   ],
   "source": [
    "df2['fpath_segm'].values"
   ]
  },
  {
   "cell_type": "code",
   "execution_count": 170,
   "id": "incredible-playback",
   "metadata": {},
   "outputs": [
    {
     "name": "stdout",
     "output_type": "stream",
     "text": [
      "<zip object at 0x7f16dde93550>\n"
     ]
    }
   ],
   "source": [
    "print(zip(a,b))"
   ]
  },
  {
   "cell_type": "code",
   "execution_count": 177,
   "id": "every-chancellor",
   "metadata": {},
   "outputs": [
    {
     "data": {
      "text/plain": [
       "['background', 'foot', 'hand', 'arm', 'leg', 'torso', 'head']"
      ]
     },
     "execution_count": 177,
     "metadata": {},
     "output_type": "execute_result"
    }
   ],
   "source": [
    "list(df.columns)[6:]"
   ]
  },
  {
   "cell_type": "code",
   "execution_count": null,
   "id": "dramatic-genetics",
   "metadata": {},
   "outputs": [],
   "source": []
  }
 ],
 "metadata": {
  "kernelspec": {
   "display_name": "Python 3",
   "language": "python",
   "name": "python3"
  },
  "language_info": {
   "codemirror_mode": {
    "name": "ipython",
    "version": 3
   },
   "file_extension": ".py",
   "mimetype": "text/x-python",
   "name": "python",
   "nbconvert_exporter": "python",
   "pygments_lexer": "ipython3",
   "version": "3.7.7"
  }
 },
 "nbformat": 4,
 "nbformat_minor": 5
}
