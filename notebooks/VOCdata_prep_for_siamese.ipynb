{
 "cells": [
  {
   "cell_type": "code",
   "execution_count": 2,
   "metadata": {},
   "outputs": [],
   "source": [
    "import os\n",
    "import cv2\n",
    "import math\n",
    "import json\n",
    "import glob\n",
    "import random\n",
    "import itertools\n",
    "import numpy as np\n",
    "import pandas as pd\n",
    "from PIL import Image\n",
    "from pprint import pprint \n",
    "from matplotlib import pyplot as plt\n",
    "\n",
    "\n",
    "random.seed(0)\n",
    "# num_classes = 100\n",
    "# colors = [(random.randint(0, 255), random.randint(0, 255), random.randint(0, 255)) for _ in range(num_classes)]\n",
    "\n",
    "VOC_CLASSES = [\n",
    "    \"background\",\n",
    "    \"aeroplane\",\n",
    "    \"bicycle\",\n",
    "    \"bird\",\n",
    "    \"boat\",\n",
    "    \"bottle\",\n",
    "    \"bus\",\n",
    "    \"car\",\n",
    "    \"cat\",\n",
    "    \"chair\",\n",
    "    \"cow\",\n",
    "    \"diningtable\",\n",
    "    \"dog\",\n",
    "    \"horse\",\n",
    "    \"motorbike\",\n",
    "    \"person\",\n",
    "    \"potted plant\",\n",
    "    \"sheep\",\n",
    "    \"sofa\",\n",
    "    \"train\",\n",
    "    \"tv/monitor\",\n",
    "]\n",
    "\n",
    "\n",
    "VOC_COLORMAP = [\n",
    "    [0, 0, 0],\n",
    "    [128, 0, 0],\n",
    "    [0, 128, 0],\n",
    "    [128, 128, 0],\n",
    "    [0, 0, 128],\n",
    "    [128, 0, 128],\n",
    "    [0, 128, 128],\n",
    "    [128, 128, 128],\n",
    "    [64, 0, 0],\n",
    "    [192, 0, 0],\n",
    "    [64, 128, 0],\n",
    "    [192, 128, 0],\n",
    "    [64, 0, 128],\n",
    "    [192, 0, 128],\n",
    "    [64, 128, 128],\n",
    "    [192, 128, 128],\n",
    "    [0, 64, 0],\n",
    "    [128, 64, 0],\n",
    "    [0, 192, 0],\n",
    "    [128, 192, 0],\n",
    "    [0, 64, 128],\n",
    "]\n",
    "\n",
    "def transparent_overlays(image, annotation, alpha=0.5):\n",
    "    img1 = image.copy()\n",
    "    img2 = annotation.copy()\n",
    "\n",
    "    # I want to put logo on top-left corner, So I create a ROI\n",
    "    rows,cols,channels = img2.shape\n",
    "    roi = img1[0:rows, 0:cols ]\n",
    "\n",
    "    # Now create a mask of logo and create its inverse mask also\n",
    "    img2gray = cv2.cvtColor(img2,cv2.COLOR_BGR2GRAY)\n",
    "    ret, mask = cv2.threshold(img2gray, 10, 255, cv2.THRESH_BINARY)\n",
    "    mask_inv = cv2.bitwise_not(mask)\n",
    "\n",
    "    # Now black-out the area of logo in ROI\n",
    "    # img1_bg = cv2.bitwise_and(roi,roi,mask = mask_inv)\n",
    "\n",
    "    # Take only region of logo from logo image.\n",
    "    img2_fg = cv2.bitwise_and(img2,img2,mask = mask)\n",
    "\n",
    "    # Put logo in ROI and modify the main image\n",
    "    # dst = cv2.add(img1_bg, img2_fg)\n",
    "    dst = cv2.addWeighted(image.copy(), 1-alpha, img2_fg, alpha, 0)\n",
    "    img1[0:rows, 0:cols ] = dst\n",
    "    return dst\n",
    "\n",
    "\n",
    "num_classes = len(VOC_CLASSES)\n",
    "colors = VOC_COLORMAP"
   ]
  },
  {
   "cell_type": "code",
   "execution_count": 3,
   "metadata": {},
   "outputs": [],
   "source": [
    "df = pd.read_csv('../data/voc_train_data.csv')\n"
   ]
  },
  {
   "cell_type": "markdown",
   "metadata": {},
   "source": [
    "## Get all pairs (using the actual labels not clustering or sequencing)"
   ]
  },
  {
   "cell_type": "code",
   "execution_count": 4,
   "metadata": {},
   "outputs": [],
   "source": [
    "def intersectionAndUnion(imPred, imLab, numClass):\n",
    "    imPred = np.asarray(imPred).copy()\n",
    "    imLab = np.asarray(imLab).copy()\n",
    "    imPred += 1\n",
    "    imLab += 1\n",
    "    # Remove classes from unlabeled pixels in gt image.\n",
    "    # We should not penalize detections in unlabeled portions of the image.\n",
    "    imPred = imPred * (imLab > 0)\n",
    "    # Compute area intersection:\n",
    "    intersection = imPred * (imPred == imLab)\n",
    "    (area_intersection, _) = np.histogram(\n",
    "        intersection, bins=numClass, range=(1, numClass))\n",
    "    # Compute area union:\n",
    "    (area_pred, _) = np.histogram(imPred, bins=numClass, range=(1, numClass))\n",
    "    (area_lab, _) = np.histogram(imLab, bins=numClass, range=(1, numClass))\n",
    "    area_union = area_pred + area_lab - area_intersection\n",
    "    return (area_intersection, area_union)\n",
    "\n",
    "def intersectionOverUnion(IU):\n",
    "    # IoU = IU[0].sum() / IU[1].sum() # this is not good because the BG class is dominant\n",
    "    classes_in_img = np.where(IU[1] != 0) # index of the classes that have pixels in the union value\n",
    "    print(f\"classes_in_img are {classes_in_img}\\n\\n\")\n",
    "    print(f\"IoU is {IU[0][classes_in_img]/IU[1][classes_in_img]}\\n\\n\")\n",
    "    meanIoU = np.mean(IU[0][classes_in_img]/IU[1][classes_in_img])\n",
    "    return meanIoU\n",
    "\n",
    "def accuracy(preds, label):\n",
    "    valid = (label >= 0)\n",
    "    acc_sum = (valid * (preds == label)).sum()\n",
    "    valid_sum = valid.sum()\n",
    "    acc = float(acc_sum) / (valid_sum + 1e-10)\n",
    "    return acc, valid_sum"
   ]
  },
  {
   "cell_type": "code",
   "execution_count": 5,
   "metadata": {},
   "outputs": [],
   "source": [
    "def color_im(img, colors):\n",
    "    for i in range(len(colors)):\n",
    "        img[:,:,0][np.where(img[:,:,0] == i)] = colors[i][0]\n",
    "        img[:,:,1][np.where(img[:,:,1] == i)] = colors[i][1]\n",
    "        img[:,:,2][np.where(img[:,:,2] == i)] = colors[i][2]\n",
    "    return img\n",
    "\n",
    "def vis_pair(img1, img2, label1, label2):\n",
    "    img1 = cv2.imread(img1)\n",
    "    img2 = cv2.imread(img2)\n",
    "    label1 = cv2.imread(label1)\n",
    "    #print(\"uniq labels in l1; {}\\n\".format({i:VOC_CLASSES[i] for i in np.unique(label1)}))\n",
    "\n",
    "    label2 = cv2.imread(label2)\n",
    "    #print(\"uniq labels in l2; {}\\n\".format({i:VOC_CLASSES[i] for i in np.unique(label2)}))\n",
    "    \n",
    "    tmp_label2 = cv2.resize(label2, (int(label1.shape[1]), int(label1.shape[0])))\n",
    "    \n",
    "    label1[np.where(label1 == 0)] = 255 # to exclude the bg from intersection\n",
    "    intersection = np.where(label1[:,:,0] == tmp_label2[:,:,0])[0].shape[0]\n",
    "    #print(np.where(tmp_label2[:,:,0] != 0 )[0].shape)\n",
    "    union = np.where(label1[:,:,0] != 255 )[0].shape[0] + np.where(tmp_label2[:,:,0] != 0 )[0].shape[0] - intersection\n",
    "    \n",
    "    #print(\"uniq labels in resized l2; {}\\n\".format({i:VOC_CLASSES[i] for i in np.unique(tmp_label2)}))\n",
    "\n",
    "    ##plt.figure(figsize=(10, 7))\n",
    "    ##plt.imshow(transparent_overlays(color_im(label1, colors), color_im(tmp_label2, colors), 0.45))\n",
    "    ##plt.show()\n",
    "    \n",
    "    #IU = intersectionAndUnion(label1, tmp_label2, len(VOC_CLASSES))\n",
    "    #print(f\"IntersectionAndUnion is {IU}\\n\\n\")\n",
    "    #return intersectionOverUnion(IU)\n",
    "    return intersection/union\n"
   ]
  },
  {
   "cell_type": "markdown",
   "metadata": {},
   "source": [
    " #### For each class look at all combinations of 2 (pairs) and calculate the iou of their labels (excluding the BG class)"
   ]
  },
  {
   "cell_type": "code",
   "execution_count": 9,
   "metadata": {
    "scrolled": false
   },
   "outputs": [],
   "source": [
    "output = \"\"\n",
    "for i, c in enumerate(VOC_CLASSES):\n",
    "    if c != 'background':\n",
    "        #print(c)\n",
    "        sub_data = df[df[c]==1]\n",
    "        #print(f\"numbers of image: {len(sub_data)} \\n\\n\")\n",
    "        count = 0\n",
    "        for pair in itertools.combinations(sub_data['fpath_img'],2):\n",
    "            row1 = df[df['fpath_img']==pair[0]]\n",
    "            row2 = df[df['fpath_img']==pair[1]]\n",
    "            imgs = [row1['fpath_img'].values[0],row2['fpath_img'].values[0]]\n",
    "            segms = [row1['fpath_segm'].values[0],row2['fpath_segm'].values[0]]\n",
    "\n",
    "            w, h =  row1['width'].values[0], row1['height'].values[0]\n",
    "\n",
    "            iou = vis_pair(imgs[0], imgs[1], segms[0], segms[1])\n",
    "            #if iou > 0.5 :\n",
    "            new_line = {}\n",
    "            new_line[\"fpath_img\"], new_line[\"fpath_segm\"], new_line[\"width\"], new_line[\"height\"], new_line['iou'] = \\\n",
    "                    imgs, segms, int(w), int(h), iou\n",
    "            #print(new_line)\n",
    "            output += json.dumps(new_line) + \"\\n\"\n",
    "\n",
    "with open('../data/VOC_pairs_iou.odgt', 'w') as fp:\n",
    "    fp.write(output)"
   ]
  },
  {
   "cell_type": "code",
   "execution_count": 20,
   "metadata": {},
   "outputs": [],
   "source": [
    "df_pairs = pd.read_json('../data/VOC_pairs_iou.odgt', lines=True)"
   ]
  },
  {
   "cell_type": "code",
   "execution_count": 23,
   "metadata": {},
   "outputs": [
    {
     "data": {
      "text/plain": [
       "<matplotlib.axes._subplots.AxesSubplot at 0x7f6d8809a490>"
      ]
     },
     "execution_count": 23,
     "metadata": {},
     "output_type": "execute_result"
    },
    {
     "data": {
      "image/png": "[encoded data removed]",
      "text/plain": [
       "<Figure size 432x288 with 1 Axes>"
      ]
     },
     "metadata": {
      "needs_background": "light"
     },
     "output_type": "display_data"
    }
   ],
   "source": [
    "df_pairs['iou'].hist()\n"
   ]
  },
  {
   "cell_type": "markdown",
   "metadata": {},
   "source": [
    "#### This analysis shows that in a dataset like VOC, the iou of the pairs of images representing the same class is actually very small. It would be interesting to do the same this for city scapes, plant dataset, ... It is likely that we get a different histogram for datasets that have evolving characteristics or evolving content "
   ]
  },
  {
   "cell_type": "code",
   "execution_count": 24,
   "metadata": {},
   "outputs": [
    {
     "data": {
      "text/html": [
       "<div>\n",
       "<style scoped>\n",
       "    .dataframe tbody tr th:only-of-type {\n",
       "        vertical-align: middle;\n",
       "    }\n",
       "\n",
       "    .dataframe tbody tr th {\n",
       "        vertical-align: top;\n",
       "    }\n",
       "\n",
       "    .dataframe thead th {\n",
       "        text-align: right;\n",
       "    }\n",
       "</style>\n",
       "<table border=\"1\" class=\"dataframe\">\n",
       "  <thead>\n",
       "    <tr style=\"text-align: right;\">\n",
       "      <th></th>\n",
       "      <th>fpath_img</th>\n",
       "      <th>fpath_segm</th>\n",
       "      <th>width</th>\n",
       "      <th>height</th>\n",
       "      <th>iou</th>\n",
       "    </tr>\n",
       "  </thead>\n",
       "  <tbody>\n",
       "    <tr>\n",
       "      <th>0</th>\n",
       "      <td>[/data/sara/semantic-segmentation-pytorch/data...</td>\n",
       "      <td>[/data/sara/semantic-segmentation-pytorch/data...</td>\n",
       "      <td>281</td>\n",
       "      <td>500</td>\n",
       "      <td>0.246318</td>\n",
       "    </tr>\n",
       "    <tr>\n",
       "      <th>1</th>\n",
       "      <td>[/data/sara/semantic-segmentation-pytorch/data...</td>\n",
       "      <td>[/data/sara/semantic-segmentation-pytorch/data...</td>\n",
       "      <td>281</td>\n",
       "      <td>500</td>\n",
       "      <td>0.159835</td>\n",
       "    </tr>\n",
       "    <tr>\n",
       "      <th>2</th>\n",
       "      <td>[/data/sara/semantic-segmentation-pytorch/data...</td>\n",
       "      <td>[/data/sara/semantic-segmentation-pytorch/data...</td>\n",
       "      <td>281</td>\n",
       "      <td>500</td>\n",
       "      <td>0.062326</td>\n",
       "    </tr>\n",
       "    <tr>\n",
       "      <th>3</th>\n",
       "      <td>[/data/sara/semantic-segmentation-pytorch/data...</td>\n",
       "      <td>[/data/sara/semantic-segmentation-pytorch/data...</td>\n",
       "      <td>281</td>\n",
       "      <td>500</td>\n",
       "      <td>0.000000</td>\n",
       "    </tr>\n",
       "    <tr>\n",
       "      <th>4</th>\n",
       "      <td>[/data/sara/semantic-segmentation-pytorch/data...</td>\n",
       "      <td>[/data/sara/semantic-segmentation-pytorch/data...</td>\n",
       "      <td>281</td>\n",
       "      <td>500</td>\n",
       "      <td>0.123133</td>\n",
       "    </tr>\n",
       "  </tbody>\n",
       "</table>\n",
       "</div>"
      ],
      "text/plain": [
       "                                           fpath_img  \\\n",
       "0  [/data/sara/semantic-segmentation-pytorch/data...   \n",
       "1  [/data/sara/semantic-segmentation-pytorch/data...   \n",
       "2  [/data/sara/semantic-segmentation-pytorch/data...   \n",
       "3  [/data/sara/semantic-segmentation-pytorch/data...   \n",
       "4  [/data/sara/semantic-segmentation-pytorch/data...   \n",
       "\n",
       "                                          fpath_segm  width  height       iou  \n",
       "0  [/data/sara/semantic-segmentation-pytorch/data...    281     500  0.246318  \n",
       "1  [/data/sara/semantic-segmentation-pytorch/data...    281     500  0.159835  \n",
       "2  [/data/sara/semantic-segmentation-pytorch/data...    281     500  0.062326  \n",
       "3  [/data/sara/semantic-segmentation-pytorch/data...    281     500  0.000000  \n",
       "4  [/data/sara/semantic-segmentation-pytorch/data...    281     500  0.123133  "
      ]
     },
     "execution_count": 24,
     "metadata": {},
     "output_type": "execute_result"
    }
   ],
   "source": [
    "df_pairs.head()"
   ]
  },
  {
   "cell_type": "code",
   "execution_count": null,
   "metadata": {},
   "outputs": [],
   "source": []
  }
 ],
 "metadata": {
  "kernelspec": {
   "display_name": "Python 3",
   "language": "python",
   "name": "python3"
  },
  "language_info": {
   "codemirror_mode": {
    "name": "ipython",
    "version": 3
   },
   "file_extension": ".py",
   "mimetype": "text/x-python",
   "name": "python",
   "nbconvert_exporter": "python",
   "pygments_lexer": "ipython3",
   "version": "3.7.7"
  }
 },
 "nbformat": 4,
 "nbformat_minor": 4
}
