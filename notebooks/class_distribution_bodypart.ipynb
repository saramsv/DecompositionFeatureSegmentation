{
 "cells": [
  {
   "cell_type": "code",
   "execution_count": 57,
   "id": "needed-greensboro",
   "metadata": {},
   "outputs": [],
   "source": [
    "import os\n",
    "import cv2\n",
    "import math\n",
    "import json\n",
    "import glob\n",
    "import random\n",
    "import numpy as np\n",
    "import pandas as pd\n",
    "from PIL import Image\n",
    "from collections import namedtuple\n",
    "from matplotlib import pyplot as plt\n",
    "\n",
    "VOC_CLASSES = [\n",
    "    \"background\",\n",
    "    \"foot\"\n",
    "    \"hand\"\n",
    "    \"arm\"\n",
    "    \"leg\"\n",
    "    \"torso\"\n",
    "    \"head\"\n",
    "]\n",
    "\n",
    "random.seed(0)\n",
    "NUM_CLASSES = 7\n",
    "BODY_COLORMAP = [(random.randint(0, 255), random.randint(\n",
    "    0, 255), random.randint(0, 255)) for _ in range(NUM_CLASSES)]\n",
    " "
   ]
  },
  {
   "cell_type": "code",
   "execution_count": 58,
   "id": "thousand-given",
   "metadata": {},
   "outputs": [],
   "source": [
    "# get classes list from image path        \n",
    "def get_classes_names(path, class_names):\n",
    "    gray = cv2.imread(path, 0)\n",
    "    # gray = cv2.cvtColor(image, cv2.COLOR_BGR2GRAY)\n",
    "    ret_list = []\n",
    "    for i in np.unique(gray): ret_list.append(class_names[i])\n",
    "    return ret_list\n",
    "\n",
    "\n",
    "def get_class_dist_df(filename):\n",
    "    with open(filename, 'r') as f:\n",
    "        data = f.readlines()\n",
    "\n",
    "    dict_data = [json.loads(val) for val in data]\n",
    "    df = pd.DataFrame(dict_data)\n",
    "    \n",
    "    # dict of classes. 1:contain class, 0:NO class\n",
    "    classes = {val:[] for val in VOC_CLASSES}\n",
    "    image_ids = []\n",
    "    \n",
    "    for index, row in df.iterrows():\n",
    "        label_path = row['fpath_segm']\n",
    "        img_id = label_path.split('/')[-1].split('.')[0]\n",
    "\n",
    "        image_ids.append(img_id)\n",
    "        tmp_classes = get_classes_names(label_path, VOC_CLASSES)\n",
    "\n",
    "        for k, v in classes.items():\n",
    "            if k in tmp_classes:\n",
    "                classes[k].append(1)\n",
    "            else:\n",
    "                classes[k].append(0)\n",
    "\n",
    "    df['id'] = image_ids\n",
    "\n",
    "    for k, v in classes.items():\n",
    "        df[k] = classes[k]\n",
    "        \n",
    "    return df\n",
    "\n",
    "\n",
    "def color_im(img, colors):\n",
    "    for i in range(len(colors)):\n",
    "        img[:,:,0][np.where(img[:,:,0] == i)] = colors[i][0]\n",
    "        img[:,:,1][np.where(img[:,:,1] == i)] = colors[i][1]\n",
    "        img[:,:,2][np.where(img[:,:,2] == i)] = colors[i][2]\n",
    "    return img"
   ]
  },
  {
   "cell_type": "code",
   "execution_count": 59,
   "id": "endless-subsection",
   "metadata": {},
   "outputs": [
    {
     "data": {
      "image/png": "[encoded data removed]",
      "text/plain": [
       "<Figure size 936x936 with 1 Axes>"
      ]
     },
     "metadata": {
      "needs_background": "light"
     },
     "output_type": "display_data"
    }
   ],
   "source": [
    "img_path = \"/data/sara/semantic-segmentation-pytorch/all_body_part_annotations/29800522.14.png\"\n",
    "\n",
    "colored_seg = cv2.imread(img_path)\n",
    "plt.figure(figsize=(13, 13))\n",
    "plt.imshow(color_im(colored_seg,BODY_COLORMAP))\n",
    "plt.show()"
   ]
  },
  {
   "cell_type": "markdown",
   "id": "blocked-tract",
   "metadata": {},
   "source": [
    "## Parsing the tags"
   ]
  },
  {
   "cell_type": "code",
   "execution_count": 60,
   "id": "hungarian-costa",
   "metadata": {},
   "outputs": [],
   "source": [
    "filename = \"/data/sara/DecompositionFeatureSegmentation/data/tags.csv.20210523.poly\"\n",
    "df = pd.read_csv(filename ,  delimiter = ',', names = ['_id', 'user', 'location', 'image', 'tag', 'created', '__v'])"
   ]
  },
  {
   "cell_type": "code",
   "execution_count": 61,
   "id": "suited-philip",
   "metadata": {},
   "outputs": [
    {
     "data": {
      "text/html": [
       "<div>\n",
       "<style scoped>\n",
       "    .dataframe tbody tr th:only-of-type {\n",
       "        vertical-align: middle;\n",
       "    }\n",
       "\n",
       "    .dataframe tbody tr th {\n",
       "        vertical-align: top;\n",
       "    }\n",
       "\n",
       "    .dataframe thead th {\n",
       "        text-align: right;\n",
       "    }\n",
       "</style>\n",
       "<table border=\"1\" class=\"dataframe\">\n",
       "  <thead>\n",
       "    <tr style=\"text-align: right;\">\n",
       "      <th></th>\n",
       "      <th>_id</th>\n",
       "      <th>user</th>\n",
       "      <th>location</th>\n",
       "      <th>image</th>\n",
       "      <th>tag</th>\n",
       "      <th>created</th>\n",
       "      <th>__v</th>\n",
       "    </tr>\n",
       "  </thead>\n",
       "  <tbody>\n",
       "    <tr>\n",
       "      <th>0</th>\n",
       "      <td>ObjectId(5f4d4863b07cb440df6b7207)</td>\n",
       "      <td>ObjectId(5c51a34d3e6b3a00341e1861)</td>\n",
       "      <td>[{\"type\":\"polygon\",\"geometry\":{\"points\":[{\"x\":...</td>\n",
       "      <td>sara_img/151/15110401.10.JPG</td>\n",
       "      <td>purge</td>\n",
       "      <td>2019-02-12T00:08:55.329Z</td>\n",
       "      <td>0</td>\n",
       "    </tr>\n",
       "    <tr>\n",
       "      <th>1</th>\n",
       "      <td>ObjectId(5f4d4863b07cb440df6b7206)</td>\n",
       "      <td>ObjectId(5c51a34d3e6b3a00341e1861)</td>\n",
       "      <td>[{\"type\":\"polygon\",\"geometry\":{\"points\":[{\"x\":...</td>\n",
       "      <td>sara_img/151/15110401.10.JPG</td>\n",
       "      <td>purge</td>\n",
       "      <td>2019-02-12T00:08:19.760Z</td>\n",
       "      <td>0</td>\n",
       "    </tr>\n",
       "    <tr>\n",
       "      <th>2</th>\n",
       "      <td>ObjectId(5f4d4863b07cb440df6b7208)</td>\n",
       "      <td>ObjectId(5c51a34d3e6b3a00341e1861)</td>\n",
       "      <td>[{\"type\":\"polygon\",\"geometry\":{\"points\":[{\"x\":...</td>\n",
       "      <td>sara_img/151/15110401.10.JPG</td>\n",
       "      <td>bone</td>\n",
       "      <td>2019-02-12T00:16:33.306Z</td>\n",
       "      <td>0</td>\n",
       "    </tr>\n",
       "    <tr>\n",
       "      <th>3</th>\n",
       "      <td>ObjectId(5f4d4863b07cb440df6b720b)</td>\n",
       "      <td>ObjectId(5c51a34d3e6b3a00341e1861)</td>\n",
       "      <td>[{\"type\":\"polygon\",\"geometry\":{\"points\":[{\"x\":...</td>\n",
       "      <td>sara_img/151/15110401.11.JPG</td>\n",
       "      <td>purge</td>\n",
       "      <td>2019-02-12T00:22:38.972Z</td>\n",
       "      <td>0</td>\n",
       "    </tr>\n",
       "    <tr>\n",
       "      <th>4</th>\n",
       "      <td>ObjectId(5f4d4863b07cb440df6b720d)</td>\n",
       "      <td>ObjectId(5c51a34d3e6b3a00341e1861)</td>\n",
       "      <td>[{\"type\":\"polygon\",\"geometry\":{\"points\":[{\"x\":...</td>\n",
       "      <td>sara_img/151/15110401.13.JPG</td>\n",
       "      <td>maggots</td>\n",
       "      <td>2019-02-12T00:25:50.683Z</td>\n",
       "      <td>0</td>\n",
       "    </tr>\n",
       "  </tbody>\n",
       "</table>\n",
       "</div>"
      ],
      "text/plain": [
       "                                  _id                                user  \\\n",
       "0  ObjectId(5f4d4863b07cb440df6b7207)  ObjectId(5c51a34d3e6b3a00341e1861)   \n",
       "1  ObjectId(5f4d4863b07cb440df6b7206)  ObjectId(5c51a34d3e6b3a00341e1861)   \n",
       "2  ObjectId(5f4d4863b07cb440df6b7208)  ObjectId(5c51a34d3e6b3a00341e1861)   \n",
       "3  ObjectId(5f4d4863b07cb440df6b720b)  ObjectId(5c51a34d3e6b3a00341e1861)   \n",
       "4  ObjectId(5f4d4863b07cb440df6b720d)  ObjectId(5c51a34d3e6b3a00341e1861)   \n",
       "\n",
       "                                            location  \\\n",
       "0  [{\"type\":\"polygon\",\"geometry\":{\"points\":[{\"x\":...   \n",
       "1  [{\"type\":\"polygon\",\"geometry\":{\"points\":[{\"x\":...   \n",
       "2  [{\"type\":\"polygon\",\"geometry\":{\"points\":[{\"x\":...   \n",
       "3  [{\"type\":\"polygon\",\"geometry\":{\"points\":[{\"x\":...   \n",
       "4  [{\"type\":\"polygon\",\"geometry\":{\"points\":[{\"x\":...   \n",
       "\n",
       "                          image      tag                   created  __v  \n",
       "0  sara_img/151/15110401.10.JPG    purge  2019-02-12T00:08:55.329Z    0  \n",
       "1  sara_img/151/15110401.10.JPG    purge  2019-02-12T00:08:19.760Z    0  \n",
       "2  sara_img/151/15110401.10.JPG     bone  2019-02-12T00:16:33.306Z    0  \n",
       "3  sara_img/151/15110401.11.JPG    purge  2019-02-12T00:22:38.972Z    0  \n",
       "4  sara_img/151/15110401.13.JPG  maggots  2019-02-12T00:25:50.683Z    0  "
      ]
     },
     "execution_count": 61,
     "metadata": {},
     "output_type": "execute_result"
    }
   ],
   "source": [
    "df.head()"
   ]
  },
  {
   "cell_type": "code",
   "execution_count": 62,
   "id": "dominican-venice",
   "metadata": {},
   "outputs": [],
   "source": [
    "clean_df = pd.DataFrame()\n",
    "for index, row in df.iterrows():\n",
    "    tags = row['tag'].split(';')\n",
    "    for tag in tags:\n",
    "        row['tag'] = tag.lower().strip()\n",
    "        clean_df = clean_df.append(row)\n"
   ]
  },
  {
   "cell_type": "code",
   "execution_count": 63,
   "id": "drawn-bottom",
   "metadata": {},
   "outputs": [
    {
     "data": {
      "text/plain": [
       "131"
      ]
     },
     "execution_count": 63,
     "metadata": {},
     "output_type": "execute_result"
    }
   ],
   "source": [
    "len(clean_df['tag'].unique())"
   ]
  },
  {
   "cell_type": "code",
   "execution_count": 64,
   "id": "through-intake",
   "metadata": {
    "scrolled": false
   },
   "outputs": [
    {
     "ename": "AttributeError",
     "evalue": "'numpy.ndarray' object has no attribute 'values'",
     "output_type": "error",
     "traceback": [
      "\u001b[0;31m---------------------------------------------------------------------------\u001b[0m",
      "\u001b[0;31mAttributeError\u001b[0m                            Traceback (most recent call last)",
      "\u001b[0;32m<ipython-input-64-58d81feece52>\u001b[0m in \u001b[0;36m<module>\u001b[0;34m\u001b[0m\n\u001b[1;32m      8\u001b[0m \u001b[0;34m\u001b[0m\u001b[0m\n\u001b[1;32m      9\u001b[0m     \u001b[0mimage_ids\u001b[0m\u001b[0;34m.\u001b[0m\u001b[0mappend\u001b[0m\u001b[0;34m(\u001b[0m\u001b[0mimg_id\u001b[0m\u001b[0;34m)\u001b[0m\u001b[0;34m\u001b[0m\u001b[0;34m\u001b[0m\u001b[0m\n\u001b[0;32m---> 10\u001b[0;31m     \u001b[0mtmp_classes\u001b[0m \u001b[0;34m=\u001b[0m \u001b[0mdf\u001b[0m\u001b[0;34m[\u001b[0m\u001b[0mdf\u001b[0m\u001b[0;34m[\u001b[0m\u001b[0;34m'image'\u001b[0m\u001b[0;34m]\u001b[0m \u001b[0;34m==\u001b[0m \u001b[0mrow\u001b[0m\u001b[0;34m[\u001b[0m\u001b[0;34m'image'\u001b[0m\u001b[0;34m]\u001b[0m\u001b[0;34m]\u001b[0m\u001b[0;34m[\u001b[0m\u001b[0;34m'tag'\u001b[0m\u001b[0;34m]\u001b[0m\u001b[0;34m.\u001b[0m\u001b[0munique\u001b[0m\u001b[0;34m(\u001b[0m\u001b[0;34m)\u001b[0m\u001b[0;34m.\u001b[0m\u001b[0mvalues\u001b[0m\u001b[0;34m\u001b[0m\u001b[0;34m\u001b[0m\u001b[0m\n\u001b[0m\u001b[1;32m     11\u001b[0m     \u001b[0;32mbreak\u001b[0m\u001b[0;34m\u001b[0m\u001b[0;34m\u001b[0m\u001b[0m\n\u001b[1;32m     12\u001b[0m     '''\n",
      "\u001b[0;31mAttributeError\u001b[0m: 'numpy.ndarray' object has no attribute 'values'"
     ]
    }
   ],
   "source": [
    "classes = {val:[] for val in clean_df['tag'].unique()}\n",
    "image_ids = []\n",
    "image_paths = []\n",
    "image_annotations = []\n",
    "\n",
    "for index, row in df.iterrows():\n",
    "    img_name = row['image'].split('/')[-1]\n",
    "    img_path = \"/usb/sara_img/\" + img_name\n",
    "    img_id = img_name.split('.')[0]\n",
    "    \n",
    "    if img_id not in image_ids:\n",
    "        image_ids.append(img_id)\n",
    "        tmp_classes = df[df['image'] == row['image']]['tag'].unique()\n",
    "\n",
    "        for k, v in classes.items():\n",
    "            if k in tmp_classes:\n",
    "                classes[k].append(1)\n",
    "            else:\n",
    "                classes[k].append(0)\n",
    "            \n",
    "df['id'] = image_ids\n",
    "\n",
    "for k, v in classes.items():\n",
    "    df[k] = classes[k]\n",
    "    '''"
   ]
  },
  {
   "cell_type": "code",
   "execution_count": 65,
   "id": "incredible-wright",
   "metadata": {},
   "outputs": [
    {
     "data": {
      "text/plain": [
       "array(['purge', 'bone', 'skeletonization', 'background', 'foot', 'torso',\n",
       "       'leg', 'legs', 'bone exposure;bone', 'plastic', 'hips'],\n",
       "      dtype=object)"
      ]
     },
     "execution_count": 65,
     "metadata": {},
     "output_type": "execute_result"
    }
   ],
   "source": [
    "df[df['image'] == row['image']]['tag'].unique()"
   ]
  },
  {
   "cell_type": "code",
   "execution_count": 47,
   "id": "institutional-bouquet",
   "metadata": {},
   "outputs": [
    {
     "data": {
      "text/plain": [
       "{'purge': [],\n",
       " 'bone': [],\n",
       " 'maggots': [],\n",
       " 'zip tie': [],\n",
       " 'skeletonization': [],\n",
       " 'plastic': [],\n",
       " 'legs': [],\n",
       " 'fly': [],\n",
       " 'background': [],\n",
       " 'mesh bag': [],\n",
       " 'mummification': [],\n",
       " 'stake': [],\n",
       " 'scale': [],\n",
       " 'adipocere': [],\n",
       " 'tag': [],\n",
       " 'head': [],\n",
       " 'face': [],\n",
       " 'discoloration': [],\n",
       " 'hand': [],\n",
       " 'arm': [],\n",
       " 'torso': [],\n",
       " 'mold': [],\n",
       " 'skeletonizatoin': [],\n",
       " 'hair': [],\n",
       " 'marbling': [],\n",
       " 'mesh': [],\n",
       " 'foot': [],\n",
       " 'eggs': [],\n",
       " 'tattoo': [],\n",
       " 'skin slippage': [],\n",
       " 'leg': [],\n",
       " 'scavenging': [],\n",
       " 'cage': [],\n",
       " 'backgorund': [],\n",
       " 'back': [],\n",
       " 'hips': [],\n",
       " 'fresh skin': [],\n",
       " 'darkened skin': [],\n",
       " 'bone exposure': [],\n",
       " 'glossy skin': [],\n",
       " 'beetle': [],\n",
       " 'flies': [],\n",
       " 'remove': [],\n",
       " 'maggot': [],\n",
       " 'cannot see tags': [],\n",
       " 'distal radius': [],\n",
       " 'bone exposure distal humerus': [],\n",
       " 'carpals': [],\n",
       " 'pelvis': [],\n",
       " 'mummification skull': [],\n",
       " 'cranium': [],\n",
       " 'remove?': [],\n",
       " 'exposed bone': [],\n",
       " 'larvae': [],\n",
       " 'maggot eggs': [],\n",
       " 'moist skin': [],\n",
       " 'desiccated skin': [],\n",
       " 'adult fly': [],\n",
       " 'lividity': [],\n",
       " 'larval mass': [],\n",
       " 'insect': [],\n",
       " 'amputation': [],\n",
       " 'scar': [],\n",
       " 'autopsy bag': [],\n",
       " 'autopsy cut': [],\n",
       " 'foam': [],\n",
       " 'recognizable face': [],\n",
       " 'dermis': [],\n",
       " 'livor mortis': [],\n",
       " 'personal effects': [],\n",
       " 'moist decomposition': [],\n",
       " 'eye': [],\n",
       " 'post bloat': [],\n",
       " 'desiccation': [],\n",
       " 'black discoloration': [],\n",
       " 'maggot foam': [],\n",
       " 'bloat': [],\n",
       " 'brick': [],\n",
       " 'genitals': [],\n",
       " 'saturated soil': [],\n",
       " 'leaf': [],\n",
       " 'dry skin': [],\n",
       " 'maggot mass': [],\n",
       " 'bruising': [],\n",
       " 'clothing': [],\n",
       " 'shoe cover': [],\n",
       " 'skull': [],\n",
       " 'yellow jacket': [],\n",
       " 'scatter': [],\n",
       " 'medical device': [],\n",
       " 'worm': [],\n",
       " 'open sore': [],\n",
       " 'bandage': [],\n",
       " 'black brown discoloration': [],\n",
       " 'black plastic': [],\n",
       " 'advanced decomposition': [],\n",
       " 'green gut': [],\n",
       " 'soil stain': [],\n",
       " 'mummified': [],\n",
       " 'dentures': [],\n",
       " 'prosthetic device': [],\n",
       " 'ear': [],\n",
       " 'sampling site': [],\n",
       " 'black gray discoloration': [],\n",
       " 'gray discoloration': [],\n",
       " 'recessed eye': [],\n",
       " 'duplicate': [],\n",
       " 'soft tissue': [],\n",
       " 'mouse': [],\n",
       " 'ants': [],\n",
       " 'ant': [],\n",
       " 'surgical implant': [],\n",
       " 'right hand': [],\n",
       " 'nose': [],\n",
       " 'mouth': [],\n",
       " 'neck': [],\n",
       " 'bulla': [],\n",
       " 'hernia': [],\n",
       " 'moldy': [],\n",
       " 'left foot': [],\n",
       " 'right foot': [],\n",
       " 'left hand': [],\n",
       " 'brown discoloration': [],\n",
       " 'prone': [],\n",
       " 'supine': [],\n",
       " 'groin': [],\n",
       " 'trunk': [],\n",
       " 'black tarp': [],\n",
       " 'mottling': [],\n",
       " 'duct tape': [],\n",
       " 'bee': []}"
      ]
     },
     "execution_count": 47,
     "metadata": {},
     "output_type": "execute_result"
    }
   ],
   "source": [
    "classes"
   ]
  },
  {
   "cell_type": "code",
   "execution_count": null,
   "id": "controlled-addition",
   "metadata": {},
   "outputs": [],
   "source": []
  },
  {
   "cell_type": "code",
   "execution_count": null,
   "id": "changing-penny",
   "metadata": {},
   "outputs": [],
   "source": []
  },
  {
   "cell_type": "code",
   "execution_count": null,
   "id": "synthetic-magic",
   "metadata": {},
   "outputs": [],
   "source": []
  },
  {
   "cell_type": "code",
   "execution_count": null,
   "id": "intended-newport",
   "metadata": {},
   "outputs": [],
   "source": []
  },
  {
   "cell_type": "code",
   "execution_count": null,
   "id": "educational-strand",
   "metadata": {},
   "outputs": [],
   "source": []
  },
  {
   "cell_type": "code",
   "execution_count": null,
   "id": "legal-deviation",
   "metadata": {},
   "outputs": [],
   "source": []
  },
  {
   "cell_type": "code",
   "execution_count": 61,
   "id": "legitimate-biography",
   "metadata": {},
   "outputs": [
    {
     "data": {
      "text/plain": [
       "(1024, 2048)"
      ]
     },
     "execution_count": 61,
     "metadata": {},
     "output_type": "execute_result"
    }
   ],
   "source": [
    "seg = cv2.imread(img_path2, 0)\n",
    "seg.shape"
   ]
  },
  {
   "cell_type": "code",
   "execution_count": 62,
   "id": "postal-mailman",
   "metadata": {},
   "outputs": [
    {
     "name": "stdout",
     "output_type": "stream",
     "text": [
      "0 unlabeled\n",
      "1 ego vehicle\n",
      "3 out of roi\n",
      "4 static\n",
      "7 road\n",
      "8 sidewalk\n",
      "11 building\n",
      "17 pole\n",
      "20 traffic sign\n",
      "21 vegetation\n",
      "22 terrain\n",
      "23 sky\n",
      "24 person\n",
      "25 rider\n",
      "26 car\n",
      "33 bicycle\n"
     ]
    }
   ],
   "source": [
    "for i in np.unique(seg):\n",
    "    print(i, CLASS_MAP[i])"
   ]
  },
  {
   "cell_type": "code",
   "execution_count": 63,
   "id": "synthetic-feelings",
   "metadata": {},
   "outputs": [
    {
     "data": {
      "text/plain": [
       "array([ 0,  1,  3,  4,  7,  8, 11, 17, 20, 21, 22, 23, 24, 25, 26, 33],\n",
       "      dtype=uint8)"
      ]
     },
     "execution_count": 63,
     "metadata": {},
     "output_type": "execute_result"
    }
   ],
   "source": [
    "np.unique(seg)"
   ]
  },
  {
   "cell_type": "code",
   "execution_count": 64,
   "id": "antique-taste",
   "metadata": {},
   "outputs": [],
   "source": [
    "def color_image(path, colors):\n",
    "    img = cv2.imread(path)\n",
    "    for i in range(len(colors)):\n",
    "        img[:,:,0][np.where(img[:,:,0] == i)] = colors[i][0]\n",
    "        img[:,:,1][np.where(img[:,:,1] == i)] = colors[i][1]\n",
    "        img[:,:,2][np.where(img[:,:,2] == i)] = colors[i][2]\n",
    "    return img"
   ]
  },
  {
   "cell_type": "code",
   "execution_count": 66,
   "id": "taken-amendment",
   "metadata": {},
   "outputs": [
    {
     "data": {
      "image/png": "[encoded data removed]",
      "text/plain": [
       "<Figure size 936x936 with 1 Axes>"
      ]
     },
     "metadata": {
      "needs_background": "light"
     },
     "output_type": "display_data"
    }
   ],
   "source": [
    "colored_seg = color_image(img_path2, COLOR_MAP)\n",
    "plt.figure(figsize=(13, 13))\n",
    "plt.imshow(colored_seg)\n",
    "plt.show()"
   ]
  },
  {
   "cell_type": "code",
   "execution_count": 67,
   "id": "special-nightlife",
   "metadata": {},
   "outputs": [
    {
     "data": {
      "text/plain": [
       "{0: (0, 0, 0),\n",
       " 1: (0, 0, 0),\n",
       " 2: (0, 0, 0),\n",
       " 3: (0, 0, 0),\n",
       " 4: (0, 0, 0),\n",
       " 5: (111, 74, 0),\n",
       " 6: (81, 0, 81),\n",
       " 7: (128, 64, 128),\n",
       " 8: (244, 35, 232),\n",
       " 9: (250, 170, 160),\n",
       " 10: (230, 150, 140),\n",
       " 11: (70, 70, 70),\n",
       " 12: (102, 102, 156),\n",
       " 13: (190, 153, 153),\n",
       " 14: (180, 165, 180),\n",
       " 15: (150, 100, 100),\n",
       " 16: (150, 120, 90),\n",
       " 17: (153, 153, 153),\n",
       " 18: (153, 153, 153),\n",
       " 19: (250, 170, 30),\n",
       " 20: (220, 220, 0),\n",
       " 21: (107, 142, 35),\n",
       " 22: (152, 251, 152),\n",
       " 23: (70, 130, 180),\n",
       " 24: (220, 20, 60),\n",
       " 25: (255, 0, 0),\n",
       " 26: (0, 0, 142),\n",
       " 27: (0, 0, 70),\n",
       " 28: (0, 60, 100),\n",
       " 29: (0, 0, 90),\n",
       " 30: (0, 0, 110),\n",
       " 31: (0, 80, 100),\n",
       " 32: (0, 0, 230),\n",
       " 33: (119, 11, 32),\n",
       " 34: (0, 0, 142)}"
      ]
     },
     "execution_count": 67,
     "metadata": {},
     "output_type": "execute_result"
    }
   ],
   "source": [
    "COLOR_MAP"
   ]
  },
  {
   "cell_type": "code",
   "execution_count": null,
   "id": "brazilian-tissue",
   "metadata": {},
   "outputs": [],
   "source": []
  },
  {
   "cell_type": "code",
   "execution_count": null,
   "id": "split-charge",
   "metadata": {},
   "outputs": [],
   "source": []
  },
  {
   "cell_type": "code",
   "execution_count": null,
   "id": "national-breach",
   "metadata": {},
   "outputs": [],
   "source": []
  },
  {
   "cell_type": "code",
   "execution_count": null,
   "id": "derived-amsterdam",
   "metadata": {},
   "outputs": [],
   "source": []
  },
  {
   "cell_type": "code",
   "execution_count": null,
   "id": "terminal-olympus",
   "metadata": {},
   "outputs": [],
   "source": [
    "filename = '../supervised_odgts/VOCtrain_1000.odgt'\n",
    "\n",
    "with open(filename, 'r') as f:\n",
    "    data = f.readlines()\n",
    "    \n",
    "dict_data = [json.loads(val) for val in data]\n",
    "df = pd.DataFrame(dict_data)"
   ]
  },
  {
   "cell_type": "code",
   "execution_count": null,
   "id": "improved-colon",
   "metadata": {},
   "outputs": [],
   "source": [
    "# dict of classes. 1:contain class, 0:NO class\n",
    "classes = {val:[] for val in VOC_CLASSES}\n",
    "image_ids = []\n",
    "\n",
    "for index, row in df.iterrows():\n",
    "    label_path = row['fpath_segm']\n",
    "    img_id = label_path.split('/')[-1].split('.')[0]\n",
    "    \n",
    "    image_ids.append(img_id)\n",
    "    tmp_classes = get_classes_names(label_path, VOC_CLASSES)\n",
    "    \n",
    "    for k, v in classes.items():\n",
    "        if k in tmp_classes:\n",
    "            classes[k].append(1)\n",
    "        else:\n",
    "            classes[k].append(0)\n",
    "            \n",
    "df['id'] = image_ids\n",
    "\n",
    "for k, v in classes.items():\n",
    "    df[k] = classes[k]"
   ]
  },
  {
   "cell_type": "code",
   "execution_count": null,
   "id": "remarkable-brother",
   "metadata": {},
   "outputs": [],
   "source": [
    "df.head()"
   ]
  },
  {
   "cell_type": "code",
   "execution_count": null,
   "id": "processed-madonna",
   "metadata": {},
   "outputs": [],
   "source": [
    "# df.to_csv('../data/voc_train_data.csv')"
   ]
  },
  {
   "cell_type": "code",
   "execution_count": null,
   "id": "tropical-forwarding",
   "metadata": {},
   "outputs": [],
   "source": [
    "val_df = get_class_dist_df('../val_odgts/VOCval_1000.odgt')\n",
    "val_df.head()"
   ]
  },
  {
   "cell_type": "code",
   "execution_count": null,
   "id": "rational-connectivity",
   "metadata": {},
   "outputs": [],
   "source": [
    "len(val_df)\n",
    "# val_df.to_csv('../data/voc_val_data.csv')"
   ]
  },
  {
   "cell_type": "code",
   "execution_count": null,
   "id": "every-transcript",
   "metadata": {},
   "outputs": [],
   "source": [
    "val_df.sum()"
   ]
  },
  {
   "cell_type": "code",
   "execution_count": null,
   "id": "disturbed-washington",
   "metadata": {},
   "outputs": [],
   "source": [
    "df.sum()"
   ]
  },
  {
   "cell_type": "code",
   "execution_count": null,
   "id": "bacterial-black",
   "metadata": {},
   "outputs": [],
   "source": [
    "# instead of displaying random image, this will get the entire sequence for a labeled image\n",
    "\n",
    "def get_unique_label_img(data):\n",
    "    all_label_img = []\n",
    "    for val in data:\n",
    "        all_label_img.append(json.loads(val)['fpath_img'][0])\n",
    "    all_label_img = list(set(all_label_img))\n",
    "    return all_label_img\n",
    "\n",
    "# get a seq for a label image \n",
    "def get_a_seq(data, label_img):\n",
    "    a_seq_data = []\n",
    "    for val in data:\n",
    "        if label_img in val:\n",
    "            a_seq_data.append(val)\n",
    "            # raw_img = json.loads(val)['fpath_img'][1]\n",
    "    return a_seq_data"
   ]
  },
  {
   "cell_type": "code",
   "execution_count": null,
   "id": "alive-kitty",
   "metadata": {},
   "outputs": [],
   "source": [
    "for c in VOC_CLASSES:\n",
    "    print(c)\n",
    "    print(df[df[c]==1]['fpath_img'])\n",
    "    break"
   ]
  },
  {
   "cell_type": "code",
   "execution_count": null,
   "id": "demanding-storage",
   "metadata": {},
   "outputs": [],
   "source": []
  }
 ],
 "metadata": {
  "kernelspec": {
   "display_name": "Python 3",
   "language": "python",
   "name": "python3"
  },
  "language_info": {
   "codemirror_mode": {
    "name": "ipython",
    "version": 3
   },
   "file_extension": ".py",
   "mimetype": "text/x-python",
   "name": "python",
   "nbconvert_exporter": "python",
   "pygments_lexer": "ipython3",
   "version": "3.7.7"
  }
 },
 "nbformat": 4,
 "nbformat_minor": 5
}
